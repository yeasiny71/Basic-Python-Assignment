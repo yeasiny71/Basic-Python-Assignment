{
 "cells": [
  {
   "cell_type": "markdown",
   "id": "a935c9f2",
   "metadata": {},
   "source": [
    "#1) Take values of the length & breadth of a rectangle from user input and check if it is square or not."
   ]
  },
  {
   "cell_type": "code",
   "execution_count": 1,
   "id": "16d057ea",
   "metadata": {
    "scrolled": true
   },
   "outputs": [
    {
     "name": "stdout",
     "output_type": "stream",
     "text": [
      "Enter length: 12\n",
      "Enter breadth: 012\n",
      "It is square.\n"
     ]
    }
   ],
   "source": [
    "#taking the inputs of length and breadth\n",
    "a = float(input('Enter length: '))\n",
    "b = float(input('Enter breadth: '))\n",
    "\n",
    "#checking the conditions to be a square\n",
    "if a==b:\n",
    "    print('It is square.')\n",
    "else:\n",
    "    print('It is not square.')"
   ]
  },
  {
   "cell_type": "markdown",
   "id": "e6ce4f4e",
   "metadata": {},
   "source": [
    "#2) Take three integer values from the user and print the greatest among them."
   ]
  },
  {
   "cell_type": "code",
   "execution_count": 2,
   "id": "08379c86",
   "metadata": {},
   "outputs": [
    {
     "name": "stdout",
     "output_type": "stream",
     "text": [
      "Enter the 1st number: 56\n",
      "Enter the 2nd number: 89\n",
      "Enter the 3rd number: 100\n",
      "100 is the largest\n"
     ]
    }
   ],
   "source": [
    "#taking the inputs of the number.\n",
    "a = int(input('Enter the 1st number: '))\n",
    "b = int(input('Enter the 2nd number: '))\n",
    "c = int(input('Enter the 3rd number: '))\n",
    "\n",
    "#check which number is the greatest among them.\n",
    "if (a==b==c):\n",
    "    print('Three of the numbers are equal.')\n",
    "elif (a>b and a>c):\n",
    "    print(a,\"is the largest\")\n",
    "elif(b>a and b>c):\n",
    "    print(b,\"is the largest\")\n",
    "else:\n",
    "    print(c,\"is the largest\")"
   ]
  },
  {
   "cell_type": "markdown",
   "id": "7a45fdcb",
   "metadata": {},
   "source": [
    "#3) A student will not be allowed to sit in an exam if his/her attendance is less than 75%."
   ]
  },
  {
   "cell_type": "code",
   "execution_count": 3,
   "id": "10146c45",
   "metadata": {},
   "outputs": [
    {
     "name": "stdout",
     "output_type": "stream",
     "text": [
      "Enter total number of happened class:100\n",
      "How many days the student were present in class:75\n",
      "Not allowed for exam.\n"
     ]
    }
   ],
   "source": [
    "#taking the input for total class occurred and present in class.\n",
    "a = int(input('Enter total number of happened class:'))\n",
    "b = int(input('How many days the student were present in class:'))\n",
    "\n",
    "#calculating the percentage of attendance.\n",
    "c = b/a *100\n",
    "\n",
    "#checking if attendance is greater than 75%\n",
    "if (b>a):\n",
    "    print('ERROR!!!!!!!!!!')\n",
    "elif(c>75):\n",
    "    print('Allowed to sit for the exam.')\n",
    "else:\n",
    "    print('Not allowed for exam.')"
   ]
  },
  {
   "cell_type": "markdown",
   "id": "4526b45f",
   "metadata": {},
   "source": [
    "#4) A school has the following rules for the grading system:\n",
    "Below 25 – F, 25 to 44 – E, 45 to 49 – D, 50 to 59 – C, 60 to 79 – B, 80 to 89 - A, Above 90 - A+\n",
    "Now, Ask the user to enter marks and print the corresponding grade."
   ]
  },
  {
   "cell_type": "code",
   "execution_count": 4,
   "id": "f2615a0c",
   "metadata": {},
   "outputs": [
    {
     "name": "stdout",
     "output_type": "stream",
     "text": [
      "Enter the mark:89\n",
      "A\n"
     ]
    }
   ],
   "source": [
    "#taking the mark input.\n",
    "a = int(input('Enter the mark:'))\n",
    "\n",
    "#checking mark according to grading.\n",
    "if(a<25):\n",
    "    print('F')\n",
    "elif(a>=25 and a<=44):\n",
    "    print('E')\n",
    "elif(a>=45 and a<=49):\n",
    "    print('D')\n",
    "elif(a>=50 and a<=59):\n",
    "    print('C')\n",
    "elif(a>=60 and a<=79):\n",
    "    print('B')\n",
    "elif(a>=80 and a<=89):\n",
    "    print('A')\n",
    "elif(a>=90):\n",
    "    print('A+')"
   ]
  },
  {
   "cell_type": "markdown",
   "id": "8cd20dc1",
   "metadata": {},
   "source": [
    "#5)Print the following pattern using for loop.\n",
    "1 2 3 4 5 6 7\n",
    "1 2 3 4 5 6\n",
    "1 2 3 4 5\n",
    "1 2 3 4"
   ]
  },
  {
   "cell_type": "code",
   "execution_count": 5,
   "id": "5107f2cb",
   "metadata": {},
   "outputs": [
    {
     "name": "stdout",
     "output_type": "stream",
     "text": [
      "1 2 3 4 5 6 7 \n",
      "1 2 3 4 5 6 \n",
      "1 2 3 4 5 \n",
      "1 2 3 4 \n"
     ]
    }
   ],
   "source": [
    "j = 7\n",
    "for k in range(4):\n",
    "    for i in range(1,j+1,1):\n",
    "        print(i,end = ' ')\n",
    "    print()\n",
    "    j=j-1"
   ]
  },
  {
   "cell_type": "markdown",
   "id": "571eb0be",
   "metadata": {},
   "source": [
    "#5)Print the following pattern using while loop.\n",
    "1 2 3 4 5 6 7\n",
    "1 2 3 4 5 6\n",
    "1 2 3 4 5\n",
    "1 2 3 4"
   ]
  },
  {
   "cell_type": "code",
   "execution_count": 6,
   "id": "a3d7c76e",
   "metadata": {},
   "outputs": [
    {
     "name": "stdout",
     "output_type": "stream",
     "text": [
      "1 2 3 4 5 6 7 \n",
      "1 2 3 4 5 6 \n",
      "1 2 3 4 5 \n",
      "1 2 3 4 \n"
     ]
    }
   ],
   "source": [
    "j = 7\n",
    "i = 1\n",
    "while(j>0):\n",
    "    if(j == 3):\n",
    "        break\n",
    "    else:\n",
    "        while(i<j+1):\n",
    "            print(i,end = ' ')\n",
    "            i = i+1\n",
    "    print('')\n",
    "    j = j-1\n",
    "    i = 1"
   ]
  },
  {
   "cell_type": "markdown",
   "id": "0e5c4efa",
   "metadata": {},
   "source": [
    "#6) Display numbers from -100 to -10 using for loop."
   ]
  },
  {
   "cell_type": "code",
   "execution_count": 7,
   "id": "36df8924",
   "metadata": {},
   "outputs": [
    {
     "name": "stdout",
     "output_type": "stream",
     "text": [
      "-100 -99 -98 -97 -96 -95 -94 -93 -92 -91 -90 -89 -88 -87 -86 -85 -84 -83 -82 -81 -80 -79 -78 -77 -76 -75 -74 -73 -72 -71 -70 -69 -68 -67 -66 -65 -64 -63 -62 -61 -60 -59 -58 -57 -56 -55 -54 -53 -52 -51 -50 -49 -48 -47 -46 -45 -44 -43 -42 -41 -40 -39 -38 -37 -36 -35 -34 -33 -32 -31 -30 -29 -28 -27 -26 -25 -24 -23 -22 -21 -20 -19 -18 -17 -16 -15 -14 -13 -12 -11 -10 "
     ]
    }
   ],
   "source": [
    "for i in range(-100,-9,1):\n",
    "    print(i,end=' ')"
   ]
  },
  {
   "cell_type": "markdown",
   "id": "a6669834",
   "metadata": {},
   "source": [
    "#7) Write a program to sum all prime numbers within a range of 10 to 1000."
   ]
  },
  {
   "cell_type": "code",
   "execution_count": 8,
   "id": "83891cba",
   "metadata": {},
   "outputs": [
    {
     "name": "stdout",
     "output_type": "stream",
     "text": [
      "76110\n"
     ]
    }
   ],
   "source": [
    "sum = 0\n",
    "for i in range(10,1000):\n",
    "    for j in range(2,i):\n",
    "        if(i%j==0):\n",
    "            break\n",
    "    else:\n",
    "        sum = sum + i\n",
    "print(sum)"
   ]
  },
  {
   "cell_type": "markdown",
   "id": "14f3ed40",
   "metadata": {},
   "source": [
    "#8) Find the factorial of an n! (Hint, n=7: 7*6*5*4*3*2*1)."
   ]
  },
  {
   "cell_type": "code",
   "execution_count": 9,
   "id": "cbb4401f",
   "metadata": {},
   "outputs": [
    {
     "name": "stdout",
     "output_type": "stream",
     "text": [
      "Enter the number: 5\n",
      "factorial of 5 is 120\n"
     ]
    }
   ],
   "source": [
    "n = int(input('Enter the number: '))\n",
    "fact = 1\n",
    "for i in range(n,0,-1):\n",
    "    fact = fact*i\n",
    "print('factorial of',n,'is',fact)\n",
    "    "
   ]
  },
  {
   "cell_type": "markdown",
   "id": "38598b7a",
   "metadata": {},
   "source": [
    "#9) Reverse a given integer number 27956240710."
   ]
  },
  {
   "cell_type": "code",
   "execution_count": 10,
   "id": "ceda78dd",
   "metadata": {},
   "outputs": [
    {
     "name": "stdout",
     "output_type": "stream",
     "text": [
      "Enter an integer:12356\n",
      "the reverse of given number is: 65321\n"
     ]
    }
   ],
   "source": [
    "i = int(input('Enter an integer:'))\n",
    "r = 0\n",
    "while(i>0):\n",
    "    r = (r*10) + i%10\n",
    "    i = i //10\n",
    "print('the reverse of given number is:',r)"
   ]
  },
  {
   "cell_type": "raw",
   "id": "b144c0e9",
   "metadata": {},
   "source": [
    "#10) Print the following pattern using for loop.\n",
    "# # #\n",
    "# # # #\n",
    "# # #\n",
    "# #"
   ]
  },
  {
   "cell_type": "code",
   "execution_count": 11,
   "id": "2250b322",
   "metadata": {},
   "outputs": [
    {
     "name": "stdout",
     "output_type": "stream",
     "text": [
      "# # # \n",
      "# # # # \n",
      "# # # \n",
      "# # \n"
     ]
    }
   ],
   "source": [
    "rows = 4\n",
    "for i in range(2, rows):\n",
    "    for j in range(0, i + 1):\n",
    "        print(\"#\", end=' ')\n",
    "    print(\"\")\n",
    "\n",
    "for i in range(rows, 2, -1):\n",
    "    for j in range(0, i - 1):\n",
    "        print(\"#\", end=' ')\n",
    "    print(\"\")"
   ]
  },
  {
   "cell_type": "markdown",
   "id": "b7d9ae17",
   "metadata": {},
   "source": [
    "#10)Print the following pattern using while loop.\n",
    "# # #\n",
    "# # # #\n",
    "# # #\n",
    "# #"
   ]
  },
  {
   "cell_type": "code",
   "execution_count": 12,
   "id": "6f1cbff0",
   "metadata": {},
   "outputs": [
    {
     "name": "stdout",
     "output_type": "stream",
     "text": [
      "# # # \n",
      "# # # # \n",
      "# # # \n",
      "# # \n"
     ]
    }
   ],
   "source": [
    "j = 4\n",
    "i = 0\n",
    "while(j>0):\n",
    "    if(j == 4):\n",
    "        while(i<3):\n",
    "            print('#',end =' ')\n",
    "            i= i+1\n",
    "        print('')\n",
    "        j = j-1\n",
    "        i = 0\n",
    "    elif(j == 3):\n",
    "        while(i<4):\n",
    "            print('#',end = ' ')\n",
    "            i = i+1\n",
    "        print('')\n",
    "        j = j-1\n",
    "        i = 0\n",
    "    else:\n",
    "        while(i<j+1):\n",
    "            print('#',end = \" \")\n",
    "            i = i+1\n",
    "        print('')\n",
    "        j = j-1\n",
    "        i = 0"
   ]
  },
  {
   "cell_type": "markdown",
   "id": "5dcd6c0a",
   "metadata": {},
   "source": [
    "#11) Display the Fibonacci series of 15 elements using the for loop."
   ]
  },
  {
   "cell_type": "code",
   "execution_count": 13,
   "id": "e0ae1c58",
   "metadata": {
    "scrolled": true
   },
   "outputs": [
    {
     "name": "stdout",
     "output_type": "stream",
     "text": [
      "Enter the number of terms:15\n",
      "0 1 1 2 3 5 8 13 21 34 55 89 144 233 377 "
     ]
    }
   ],
   "source": [
    "n = int(input('Enter the number of terms:'))\n",
    "f = 0\n",
    "s = 1\n",
    "print(f,s, end = ' ')\n",
    "for i in range(2,n):\n",
    "    nex = f+s\n",
    "    print(nex, end = ' ')\n",
    "    f = s\n",
    "    s = nex"
   ]
  },
  {
   "cell_type": "markdown",
   "id": "14792303",
   "metadata": {},
   "source": [
    "#11) Display the Fibonacci series of 15 elements using the while loop."
   ]
  },
  {
   "cell_type": "code",
   "execution_count": 14,
   "id": "63756d3f",
   "metadata": {},
   "outputs": [
    {
     "name": "stdout",
     "output_type": "stream",
     "text": [
      "Enter the number of terms:15\n",
      "0 1 1 2 3 5 8 13 21 34 55 89 144 233 377 "
     ]
    }
   ],
   "source": [
    "n = int(input('Enter the number of terms:'))\n",
    "f = 0\n",
    "s = 1\n",
    "print(f,s, end = ' ')\n",
    "i=2\n",
    "while(i<n):\n",
    "    nex = f+s\n",
    "    print(nex, end = ' ')\n",
    "    f = s\n",
    "    s = nex\n",
    "    i=i+1"
   ]
  },
  {
   "cell_type": "markdown",
   "id": "7e2e2f7b",
   "metadata": {},
   "source": [
    "#12) Remove 2 and add 3 to the list and replace True with False.\n",
    "Li = [1,3,5, [2,3], True]\n",
    "Output = [1,3,5, [3,3], False]"
   ]
  },
  {
   "cell_type": "code",
   "execution_count": 15,
   "id": "6302d29c",
   "metadata": {},
   "outputs": [
    {
     "data": {
      "text/plain": [
       "[1, 3, 5, [2, 3], True]"
      ]
     },
     "execution_count": 15,
     "metadata": {},
     "output_type": "execute_result"
    }
   ],
   "source": [
    "Li = [1,3,5, [2,3], True]\n",
    "Li"
   ]
  },
  {
   "cell_type": "code",
   "execution_count": 16,
   "id": "0464998a",
   "metadata": {},
   "outputs": [
    {
     "data": {
      "text/plain": [
       "[1, 3, 5, [3, 3], False]"
      ]
     },
     "execution_count": 16,
     "metadata": {},
     "output_type": "execute_result"
    }
   ],
   "source": [
    "del Li[-2]\n",
    "del Li[-1]\n",
    "Li.insert(3 ,[3,3])\n",
    "Li.insert(4,False)\n",
    "Li"
   ]
  },
  {
   "cell_type": "markdown",
   "id": "4688cae1",
   "metadata": {},
   "source": [
    "#13) Find the intersection (common) of two sets.\n",
    "S1 = {1,4,6,8}\n",
    "S2 = {True, 1,2,10}"
   ]
  },
  {
   "cell_type": "code",
   "execution_count": 17,
   "id": "4738d519",
   "metadata": {},
   "outputs": [
    {
     "data": {
      "text/plain": [
       "{True, 2, 10}"
      ]
     },
     "execution_count": 17,
     "metadata": {},
     "output_type": "execute_result"
    }
   ],
   "source": [
    "S1 = {1,4,6,8}\n",
    "S2 = {True, 1,2,10}\n",
    "S2"
   ]
  },
  {
   "cell_type": "code",
   "execution_count": 18,
   "id": "43f342e7",
   "metadata": {},
   "outputs": [
    {
     "data": {
      "text/plain": [
       "{True}"
      ]
     },
     "execution_count": 18,
     "metadata": {},
     "output_type": "execute_result"
    }
   ],
   "source": [
    "S1.intersection(S2)"
   ]
  },
  {
   "cell_type": "markdown",
   "id": "deaa757c",
   "metadata": {},
   "source": [
    "#14) Input a list from the user then Remove duplicates from a list and create a set and find the max\n",
    "number. User_input = [1,9,3,4,5,200,54]"
   ]
  },
  {
   "cell_type": "code",
   "execution_count": 19,
   "id": "ab76c5f5",
   "metadata": {},
   "outputs": [
    {
     "name": "stdout",
     "output_type": "stream",
     "text": [
      "length of list:7\n",
      "1\n",
      "9\n",
      "3\n",
      "4\n",
      "200\n",
      "9\n",
      "3\n",
      "[1, 9, 3, 4, 200, 9, 3]\n"
     ]
    }
   ],
   "source": [
    "l1 = []\n",
    "n = int(input('length of list:'))\n",
    "for i in range(n):\n",
    "    a = int(input())\n",
    "    l1.append(a)\n",
    "print(l1)"
   ]
  },
  {
   "cell_type": "code",
   "execution_count": 20,
   "id": "2c6cc97f",
   "metadata": {},
   "outputs": [
    {
     "data": {
      "text/plain": [
       "[1, 3, 4, 200, 9]"
      ]
     },
     "execution_count": 20,
     "metadata": {},
     "output_type": "execute_result"
    }
   ],
   "source": [
    "l1 = list(set(l1))\n",
    "l1"
   ]
  },
  {
   "cell_type": "code",
   "execution_count": 21,
   "id": "c0d2c3b2",
   "metadata": {},
   "outputs": [],
   "source": [
    "set1 = {1,9,3,4,5,200,54}"
   ]
  },
  {
   "cell_type": "code",
   "execution_count": 22,
   "id": "f1e57ce7",
   "metadata": {},
   "outputs": [
    {
     "data": {
      "text/plain": [
       "{1, 3, 4, 5, 9, 54, 200}"
      ]
     },
     "execution_count": 22,
     "metadata": {},
     "output_type": "execute_result"
    }
   ],
   "source": [
    "set1"
   ]
  },
  {
   "cell_type": "code",
   "execution_count": 23,
   "id": "2bc2f823",
   "metadata": {},
   "outputs": [
    {
     "data": {
      "text/plain": [
       "set"
      ]
     },
     "execution_count": 23,
     "metadata": {},
     "output_type": "execute_result"
    }
   ],
   "source": [
    "type(set1)"
   ]
  },
  {
   "cell_type": "code",
   "execution_count": 24,
   "id": "46705a37",
   "metadata": {},
   "outputs": [
    {
     "data": {
      "text/plain": [
       "200"
      ]
     },
     "execution_count": 24,
     "metadata": {},
     "output_type": "execute_result"
    }
   ],
   "source": [
    "max(set1)"
   ]
  },
  {
   "cell_type": "markdown",
   "id": "1c73bd2d",
   "metadata": {},
   "source": [
    "#15) Rename the key of a dictionary.\n",
    "Dict = { \"name\": \"Shakil\", \"age\":27, \"city\": “Berlin”, \"country\": \"Germany\" }\n",
    "Write a program to rename a key ‘country’ to a ‘region’ in the following dictionary."
   ]
  },
  {
   "cell_type": "code",
   "execution_count": 25,
   "id": "0515b9ff",
   "metadata": {},
   "outputs": [
    {
     "data": {
      "text/plain": [
       "{'name': 'Shakil', 'age': 27, 'city': 'Berlin', 'country': 'Germany'}"
      ]
     },
     "execution_count": 25,
     "metadata": {},
     "output_type": "execute_result"
    }
   ],
   "source": [
    "Dict = { \"name\": \"Shakil\", \"age\":27, \"city\": \"Berlin\", \"country\": \"Germany\" }\n",
    "Dict"
   ]
  },
  {
   "cell_type": "code",
   "execution_count": 26,
   "id": "c50dbb31",
   "metadata": {},
   "outputs": [
    {
     "data": {
      "text/plain": [
       "dict"
      ]
     },
     "execution_count": 26,
     "metadata": {},
     "output_type": "execute_result"
    }
   ],
   "source": [
    "type(Dict)"
   ]
  },
  {
   "cell_type": "code",
   "execution_count": 27,
   "id": "8c336c93",
   "metadata": {},
   "outputs": [
    {
     "data": {
      "text/plain": [
       "{'name': 'Shakil', 'age': 27, 'city': 'Berlin', 'region': 'Germany'}"
      ]
     },
     "execution_count": 27,
     "metadata": {},
     "output_type": "execute_result"
    }
   ],
   "source": [
    "Dict['region'] = Dict.pop('country')\n",
    "Dict"
   ]
  },
  {
   "cell_type": "markdown",
   "id": "8c06b16d",
   "metadata": {},
   "source": [
    "#16) Creating a data frame using the list.\n",
    "num = [10,100,300] (column name is number)"
   ]
  },
  {
   "cell_type": "code",
   "execution_count": 28,
   "id": "1c511653",
   "metadata": {},
   "outputs": [
    {
     "data": {
      "text/plain": [
       "[10, 100, 300]"
      ]
     },
     "execution_count": 28,
     "metadata": {},
     "output_type": "execute_result"
    }
   ],
   "source": [
    "num = [10,100,300]\n",
    "num"
   ]
  },
  {
   "cell_type": "code",
   "execution_count": 29,
   "id": "616709d0",
   "metadata": {},
   "outputs": [],
   "source": [
    "import pandas as pd"
   ]
  },
  {
   "cell_type": "code",
   "execution_count": 30,
   "id": "8dd4e36e",
   "metadata": {},
   "outputs": [
    {
     "data": {
      "text/html": [
       "<div>\n",
       "<style scoped>\n",
       "    .dataframe tbody tr th:only-of-type {\n",
       "        vertical-align: middle;\n",
       "    }\n",
       "\n",
       "    .dataframe tbody tr th {\n",
       "        vertical-align: top;\n",
       "    }\n",
       "\n",
       "    .dataframe thead th {\n",
       "        text-align: right;\n",
       "    }\n",
       "</style>\n",
       "<table border=\"1\" class=\"dataframe\">\n",
       "  <thead>\n",
       "    <tr style=\"text-align: right;\">\n",
       "      <th></th>\n",
       "      <th>0</th>\n",
       "    </tr>\n",
       "  </thead>\n",
       "  <tbody>\n",
       "    <tr>\n",
       "      <th>0</th>\n",
       "      <td>10</td>\n",
       "    </tr>\n",
       "    <tr>\n",
       "      <th>1</th>\n",
       "      <td>100</td>\n",
       "    </tr>\n",
       "    <tr>\n",
       "      <th>2</th>\n",
       "      <td>300</td>\n",
       "    </tr>\n",
       "  </tbody>\n",
       "</table>\n",
       "</div>"
      ],
      "text/plain": [
       "     0\n",
       "0   10\n",
       "1  100\n",
       "2  300"
      ]
     },
     "execution_count": 30,
     "metadata": {},
     "output_type": "execute_result"
    }
   ],
   "source": [
    "df = pd.DataFrame(num)\n",
    "df"
   ]
  },
  {
   "cell_type": "markdown",
   "id": "5d09b24e",
   "metadata": {},
   "source": [
    "#17) Change the value of a key in a given dictionary.\n",
    "Write a Python program to change ‘age’ to 28 in the following dictionary.\n",
    "Dict = { \"name\": \"Shakil\", \"age\":27, \"city\": “Berlin”, \"country\": \"Germany\"}"
   ]
  },
  {
   "cell_type": "code",
   "execution_count": 31,
   "id": "ccb6a528",
   "metadata": {},
   "outputs": [
    {
     "data": {
      "text/plain": [
       "{'name': 'Shakil', 'age': 27, 'city': 'Berlin', 'country': 'Germany'}"
      ]
     },
     "execution_count": 31,
     "metadata": {},
     "output_type": "execute_result"
    }
   ],
   "source": [
    "Dict = { \"name\": \"Shakil\", \"age\":27, \"city\": 'Berlin', \"country\": \"Germany\"}\n",
    "Dict"
   ]
  },
  {
   "cell_type": "code",
   "execution_count": 32,
   "id": "39bbc001",
   "metadata": {},
   "outputs": [
    {
     "data": {
      "text/plain": [
       "{'name': 'Shakil', 'age': 28, 'city': 'Berlin', 'country': 'Germany'}"
      ]
     },
     "execution_count": 32,
     "metadata": {},
     "output_type": "execute_result"
    }
   ],
   "source": [
    "Dict['age'] = 28\n",
    "Dict"
   ]
  },
  {
   "cell_type": "code",
   "execution_count": null,
   "id": "5ccbe24a",
   "metadata": {},
   "outputs": [],
   "source": []
  }
 ],
 "metadata": {
  "kernelspec": {
   "display_name": "Python 3 (ipykernel)",
   "language": "python",
   "name": "python3"
  },
  "language_info": {
   "codemirror_mode": {
    "name": "ipython",
    "version": 3
   },
   "file_extension": ".py",
   "mimetype": "text/x-python",
   "name": "python",
   "nbconvert_exporter": "python",
   "pygments_lexer": "ipython3",
   "version": "3.9.7"
  }
 },
 "nbformat": 4,
 "nbformat_minor": 5
}
